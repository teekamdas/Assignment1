{
 "cells": [
  {
   "cell_type": "code",
   "execution_count": 8,
   "metadata": {},
   "outputs": [
    {
     "name": "stdout",
     "output_type": "stream",
     "text": [
      "enter the number?25\n",
      "Number is odd...\n"
     ]
    }
   ],
   "source": []
  },
  {
   "cell_type": "code",
   "execution_count": 10,
   "metadata": {},
   "outputs": [
    {
     "name": "stdout",
     "output_type": "stream",
     "text": [
      "Enter the number23\n",
      "Number is Odd\n"
     ]
    }
   ],
   "source": [
    "# 2. Write a program which take input from user and identify that the given number is even or odd?\n",
    "val = int(input(\"Enter the number\"))\n",
    "\n",
    "if val%2==0 :\n",
    "    print(\"Number is even\")\n",
    "else:\n",
    "    print(\"Number is Odd\")"
   ]
  },
  {
   "cell_type": "code",
   "execution_count": 13,
   "metadata": {},
   "outputs": [
    {
     "name": "stdout",
     "output_type": "stream",
     "text": [
      "Number of items in the list =  5\n"
     ]
    }
   ],
   "source": [
    "# 3. Write a program which print the length of the list\n",
    "len_list = [1,2,3,4,5]\n",
    " \n",
    "print (\"The length of the list = \", len(len_list))"
   ]
  },
  {
   "cell_type": "code",
   "execution_count": 16,
   "metadata": {},
   "outputs": [
    {
     "name": "stdout",
     "output_type": "stream",
     "text": [
      "25\n"
     ]
    }
   ],
   "source": [
    "# Write a Python program to sum all the numeric items in a list\n",
    "\n",
    "def listsum(numList):\n",
    "    Sum = 0\n",
    "    for i in numList:\n",
    "        Sum = Sum + i\n",
    "    return Sum\n",
    "\n",
    "print(listsum([1,3,5,7,9]))\n"
   ]
  },
  {
   "cell_type": "code",
   "execution_count": 18,
   "metadata": {},
   "outputs": [
    {
     "name": "stdout",
     "output_type": "stream",
     "text": [
      "2\n"
     ]
    }
   ],
   "source": [
    "# Write a Python program to get the largest number from a numeric list.\n",
    "\n",
    "def max_num( list ):\n",
    "    max = list[ 0 ]\n",
    "    for a in list:\n",
    "        if a > max:\n",
    "            max = a\n",
    "    return max\n",
    "print(max_num([1, 2, -8, 0]))"
   ]
  },
  {
   "cell_type": "code",
   "execution_count": 20,
   "metadata": {},
   "outputs": [
    {
     "ename": "IndentationError",
     "evalue": "expected an indented block (<ipython-input-20-5df0a2560f87>, line 9)",
     "output_type": "error",
     "traceback": [
      "\u001b[1;36m  File \u001b[1;32m\"<ipython-input-20-5df0a2560f87>\"\u001b[1;36m, line \u001b[1;32m9\u001b[0m\n\u001b[1;33m    new_list.append(item)\u001b[0m\n\u001b[1;37m                         ^\u001b[0m\n\u001b[1;31mIndentationError\u001b[0m\u001b[1;31m:\u001b[0m expected an indented block\n"
     ]
    }
   ],
   "source": [
    "a = [1, 1, 2, 3, 5, 8, 13, 21, 34, 55, 89]\n",
    "\n",
    "new_list = []\n",
    "\n",
    "for item in a:\n",
    "  \n",
    "\tif item < 5:\n",
    "    \n",
    "new_list.append(item)\n",
    "print(new_list)"
   ]
  },
  {
   "cell_type": "code",
   "execution_count": 22,
   "metadata": {},
   "outputs": [
    {
     "name": "stdout",
     "output_type": "stream",
     "text": [
      "Enter your English: 85\n",
      "Enter your Maths: 94\n",
      "Enter your Physics: 94\n",
      "Enter your Urdu: 45\n",
      "Enter your Sindhi: 50\n",
      "Total Marks are  368\n",
      "Your Grade is : C\n"
     ]
    }
   ],
   "source": [
    "sub1 = int(input(\"Enter your English: \"))\n",
    "sub2 = int(input(\"Enter your Maths: \"))\n",
    "sub3 = int(input(\"Enter your Physics: \"))\n",
    "sub4 = int(input(\"Enter your Urdu: \"))\n",
    "sub5 = int(input(\"Enter your Sindhi: \"))\n",
    "Total_Marks = sub1+sub2+sub3+sub4+sub5\n",
    "avg = (Total_Marks*100)/500\n",
    "\n",
    "print (\"Total Marks are \", Total_Marks)\n",
    "\n",
    "if avg >= 90:\n",
    "  print(\"Your Grade is : A\")\n",
    "elif avg >= 80:\n",
    "  print(\"Your Grade is : B\")\n",
    "elif avg >= 70:\n",
    "  print(\"Your Grade is : C\")\n",
    "elif avg >= 65:\n",
    "  print(\"Your Grade is : D\")\n",
    "else:\n",
    "  print(\"Your Grade is : F\")"
   ]
  },
  {
   "cell_type": "code",
   "execution_count": null,
   "metadata": {},
   "outputs": [],
   "source": []
  }
 ],
 "metadata": {
  "kernelspec": {
   "display_name": "Python 3",
   "language": "python",
   "name": "python3"
  },
  "language_info": {
   "codemirror_mode": {
    "name": "ipython",
    "version": 3
   },
   "file_extension": ".py",
   "mimetype": "text/x-python",
   "name": "python",
   "nbconvert_exporter": "python",
   "pygments_lexer": "ipython3",
   "version": "3.7.4"
  }
 },
 "nbformat": 4,
 "nbformat_minor": 2
}
