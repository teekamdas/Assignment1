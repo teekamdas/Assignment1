{
 "cells": [
  {
   "cell_type": "code",
   "execution_count": 1,
   "metadata": {},
   "outputs": [
    {
     "name": "stdout",
     "output_type": "stream",
     "text": [
      "{0: 10, 1: 20}\n",
      "{0: 10, 1: 20, 2: 30}\n"
     ]
    }
   ],
   "source": [
    "# Question No 3\n",
    "# A Python script to add a key to a dictionary.\n",
    "\n",
    "d = {0:10, 1:20}\n",
    "print(d)\n",
    "d.update({2:30})\n",
    "print(d)"
   ]
  },
  {
   "cell_type": "code",
   "execution_count": 9,
   "metadata": {},
   "outputs": [
    {
     "name": "stdout",
     "output_type": "stream",
     "text": [
      "Given Dictionary :  {'1': 1, '2': 2, '3': 3, '4': 4, '5': 5}\n",
      "values  dict_values([1, 2, 3, 4, 5])\n",
      "Sum of all the values in the dictionary is :  15\n"
     ]
    }
   ],
   "source": [
    "# Question Number 04\n",
    "# A Python program to sum all the numeric items in a dictionary\n",
    "\n",
    "my_dictionary = {'1' : 1,'2' : 2,'3' : 3,'4' : 4,'5' : 5}\n",
    "print(\"Given Dictionary : \",my_dictionary)\n",
    "print(\"values \",my_dictionary.values())\n",
    "sum_values = sum(my_dictionary.values())\n",
    "print(\"Sum of all the values in the dictionary is : \",sum_values)"
   ]
  },
  {
   "cell_type": "code",
   "execution_count": null,
   "metadata": {},
   "outputs": [],
   "source": []
  },
  {
   "cell_type": "code",
   "execution_count": 9,
   "metadata": {},
   "outputs": [
    {
     "name": "stdout",
     "output_type": "stream",
     "text": [
      "The count of a is: 2\n",
      "The count of b is: 1\n"
     ]
    }
   ],
   "source": [
    "# Question Number 05\n",
    "# A program to identify duplicate values from list\n",
    "\n",
    "alfab = ['a','b','c','d','a','c']\n",
    "\n",
    "count = alfab.count('a')\n",
    "\n",
    "print('The count of a is:', count)\n",
    "\n",
    "count = alfab.count('b')\n",
    "\n",
    "print('The count of b is:', count)"
   ]
  },
  {
   "cell_type": "code",
   "execution_count": 16,
   "metadata": {},
   "outputs": [
    {
     "name": "stdout",
     "output_type": "stream",
     "text": [
      "Already Exist   value = 5\n"
     ]
    }
   ],
   "source": [
    "# Question Number 06\n",
    "# A Python script to check if a given key already exists in a dictionary.\n",
    "\n",
    "def checkKey(dict, key):     \n",
    "    if key in dict: \n",
    "        print(\"Already Exist  \", end =\" \") \n",
    "        print(\"value =\", dict[key]) \n",
    "  \n",
    "dict = {'a': 5, 'b':20, 'c':30} \n",
    "  \n",
    "key = 'a'\n",
    "checkKey(dict, key) \n",
    "  \n",
    "key = 'd'\n",
    "checkKey(dict, key) "
   ]
  },
  {
   "cell_type": "code",
   "execution_count": 6,
   "metadata": {},
   "outputs": [
    {
     "name": "stdout",
     "output_type": "stream",
     "text": [
      "Enter first number: 5\n",
      "Enter second number: 5\n",
      "Please select operator you want to use \n",
      "Press + for Addition\n",
      "Press - for Subtraction\n",
      "Press * for Multiplication\n",
      "Press / for Divsion\n",
      "Press ** for Power \n",
      ".\n",
      "Invalid input\n"
     ]
    }
   ],
   "source": [
    "# Make a calculator kusing Python with addition , subtraction , multiplication ,Division and Power.\n",
    "\n",
    "def add(num1, num2): \n",
    "    return num1 + num2 \n",
    "  \n",
    "def subtract(num1, num2): \n",
    "    return num1 - num2 \n",
    "  \n",
    "def multiply(num1, num2): \n",
    "    return num1 * num2 \n",
    "\n",
    "def divide(num1, num2): \n",
    "    return num1 / num2 \n",
    "\n",
    "def power(num1,num2):\n",
    "    return num1**num2\n",
    "\n",
    "num1 = int(input(\"Enter first number: \")) \n",
    "num2 = int(input(\"Enter second number: \"))\n",
    "  \n",
    "print(\"Please select operator you want to use \")\n",
    "print(\"Press + for Addition\")\n",
    "print(\"Press - for Subtraction\")\n",
    "print(\"Press * for Multiplication\")\n",
    "print(\"Press / for Divsion\")\n",
    "print(\"Press ** for Power \")\n",
    "\n",
    "select= input() \n",
    "\n",
    "if select == '+': \n",
    "    print(num1, \"+\", num2, \"=\", add(num1, num2)) \n",
    "  \n",
    "elif select == '-': \n",
    "    print(num, \"-\", num, \"=\", subtract(num1, num2)) \n",
    "  \n",
    "elif select == '*': \n",
    "    print(num1, \"*\", num2, \"=\", multiply(num1, num2)) \n",
    "  \n",
    "elif select == '/': \n",
    "    print(num1, \"/\", num2, \"=\", divide(num1, num2))\n",
    "    \n",
    "elif select == '**':\n",
    "    print(num1, \"Power\", num2, \"=\", pow(num1,num2))\n",
    "\n",
    "else: \n",
    "    print(\"Invalid input\") "
   ]
  },
  {
   "cell_type": "code",
   "execution_count": null,
   "metadata": {},
   "outputs": [],
   "source": []
  }
 ],
 "metadata": {
  "kernelspec": {
   "display_name": "Python 3",
   "language": "python",
   "name": "python3"
  },
  "language_info": {
   "codemirror_mode": {
    "name": "ipython",
    "version": 3
   },
   "file_extension": ".py",
   "mimetype": "text/x-python",
   "name": "python",
   "nbconvert_exporter": "python",
   "pygments_lexer": "ipython3",
   "version": "3.7.4"
  }
 },
 "nbformat": 4,
 "nbformat_minor": 2
}
